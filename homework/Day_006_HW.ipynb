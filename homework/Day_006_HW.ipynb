{
 "cells": [
  {
   "cell_type": "code",
   "execution_count": 1,
   "metadata": {
    "id": "jbkK8wprdbdY"
   },
   "outputs": [],
   "source": [
    "import numpy as np"
   ]
  },
  {
   "cell_type": "markdown",
   "metadata": {
    "id": "YWb4mnd4fqAG"
   },
   "source": [
    "作業目標<br>\n",
    "讀取存取陣列資料<br>\n",
    "作業重點<br>\n",
    "多陣列存一起需要存成npz，讀取須注意npz中有多個陣列"
   ]
  },
  {
   "cell_type": "markdown",
   "metadata": {
    "id": "UXV4vW6IfsW6"
   },
   "source": [
    "題目:<br>\n",
    "1. 將下兩列array存成npz檔<br>\n",
    "array1 = np.array(range(30))<br>\n",
    "array2 = np.array([2,3,5])<br>\n",
    "2. 讀取剛剛的npz檔，加入下列array一起存成新的npz檔\n"
   ]
  },
  {
   "cell_type": "code",
   "execution_count": 2,
   "metadata": {
    "id": "1mZQSUx_fry7"
   },
   "outputs": [],
   "source": [
    "#. 將下兩列array存成npz檔\n",
    "array1 = np.array(range(30))\n",
    "array2 = np.array([2,3,5])\n",
    "np.savez('one_array',array1,array2)"
   ]
  },
  {
   "cell_type": "code",
   "execution_count": 37,
   "metadata": {
    "id": "Ie1TGcssiIDN"
   },
   "outputs": [
    {
     "name": "stdout",
     "output_type": "stream",
     "text": [
      ".npz檔案:\n",
      " ['arr_0', 'arr_1'] \n",
      "array1:\n",
      " [ 0  1  2  3  4  5  6  7  8  9 10 11 12 13 14 15 16 17 18 19 20 21 22 23\n",
      " 24 25 26 27 28 29] \n",
      "array2:\n",
      " [2 3 5]\n"
     ]
    }
   ],
   "source": [
    "#2. 讀取剛剛的npz檔\n",
    "one=np.load('one_array.npz')\n",
    "print(\".npz檔案:\\n\",one.files,\"\\narray1:\\n\",one['arr_0'],\"\\narray2:\\n\",one['arr_1'])"
   ]
  },
  {
   "cell_type": "code",
   "execution_count": 69,
   "metadata": {},
   "outputs": [
    {
     "name": "stdout",
     "output_type": "stream",
     "text": [
      "['arr_0', 'arr_1', 'arr_2'] array1:\n",
      " [ 0  1  2  3  4  5  6  7  8  9 10 11 12 13 14 15 16 17 18 19 20 21 22 23\n",
      " 24 25 26 27 28 29] \n",
      "array2:\n",
      " [2 3 5] \n",
      "array3:\n",
      " ['array1' 'array2' 'array3']\n",
      "array4:\n",
      " [0 1 2 3 4 5 6 7 8 9] \n",
      "array5:\n",
      " [1 2 3] \n",
      "array6:\n",
      " [0.5788873  0.69082947 0.04922545 0.86517602 0.29889969 0.55285575\n",
      " 0.69389689 0.49183867 0.8308363  0.06454569]\n"
     ]
    }
   ],
   "source": [
    "#3.加入下列multi_array.npz一起存成新的npz檔\n",
    "array3 = np.load('multi_array.npz')\n",
    "np.savez('two_array',array1,array2,array3)\n",
    "two=np.load('two_array.npz')\n",
    "print(two.files,\"array1:\\n\",two['arr_0'],\"\\narray2:\\n\",two['arr_1'],\"\\narray3:\\n\",two['arr_2'])\n",
    "print(\"array4:\\n\",array3['array1'],\"\\narray5:\\n\",array3['array2'],\"\\narray6:\\n\",array3['array3'])"
   ]
  },
  {
   "cell_type": "code",
   "execution_count": null,
   "metadata": {},
   "outputs": [],
   "source": []
  }
 ],
 "metadata": {
  "colab": {
   "collapsed_sections": [],
   "name": "作業Hong題目.ipynb",
   "provenance": []
  },
  "kernelspec": {
   "display_name": "Python 3",
   "language": "python",
   "name": "python3"
  },
  "language_info": {
   "codemirror_mode": {
    "name": "ipython",
    "version": 3
   },
   "file_extension": ".py",
   "mimetype": "text/x-python",
   "name": "python",
   "nbconvert_exporter": "python",
   "pygments_lexer": "ipython3",
   "version": "3.8.3"
  }
 },
 "nbformat": 4,
 "nbformat_minor": 1
}
